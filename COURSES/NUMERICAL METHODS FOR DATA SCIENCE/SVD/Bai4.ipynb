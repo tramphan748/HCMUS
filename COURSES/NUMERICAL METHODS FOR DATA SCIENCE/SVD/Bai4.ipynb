{
 "cells": [
  {
   "cell_type": "code",
   "execution_count": 1,
   "metadata": {},
   "outputs": [],
   "source": [
    "import numpy as np\n",
    "from scipy.linalg import svd "
   ]
  },
  {
   "cell_type": "code",
   "execution_count": 19,
   "metadata": {},
   "outputs": [
    {
     "data": {
      "text/plain": [
       "(5, 5)"
      ]
     },
     "execution_count": 19,
     "metadata": {},
     "output_type": "execute_result"
    }
   ],
   "source": [
    "A = np.array([[1.01, 0.9, 0.2, 1.001, 0.3],\n",
    "             [0.2, 1.01, 0.3, 0.8, 0.4],\n",
    "             [1, 1.002, 2, 0.98, 2],\n",
    "             [0.3, 2, 0.4, 1.01, 0.9],\n",
    "             [1.1, 0.2, 0.03, 2, 0.87]])\n",
    "A.shape\n",
    "\n"
   ]
  },
  {
   "cell_type": "code",
   "execution_count": 28,
   "metadata": {},
   "outputs": [
    {
     "name": "stdout",
     "output_type": "stream",
     "text": [
      "U_k:\n",
      "[[-0.32813554  0.32928789]\n",
      " [-0.27374756  0.09123211]\n",
      " [-0.64816455 -0.65873014]\n",
      " [-0.46609071  0.0207275 ]\n",
      " [-0.4243012   0.66999341]]\n",
      "\n",
      "Sigma_k:\n",
      "[[4.68190663 0.        ]\n",
      " [0.         1.79325215]]\n",
      "\n",
      "V_k:\n",
      "[[-0.35047463 -0.4780765  -0.35097791 -0.5344013  -0.48973477]\n",
      " [ 0.24274782 -0.05358443 -0.66685673  0.62343097 -0.32378718]]\n",
      "\n",
      "Số k cần tìm: 2\n"
     ]
    }
   ],
   "source": [
    "\n",
    "def truncated_svd(A, epsilon):\n",
    "\n",
    "    # SVD của ma trận A\n",
    "    U, S_diag, V = svd(A)\n",
    "\n",
    "    # Tìm số k cần giữ\n",
    "\n",
    "    sigma_squared_sum = np.sum(S_diag**2) # Tổng sigma của ma trận đường chéo\n",
    "    cumulative_variance = np.cumsum(S_diag**2) / sigma_squared_sum\n",
    "    k = np.argmax(cumulative_variance >= epsilon)\n",
    "\n",
    "    # Truncated SVD\n",
    "    U_k = U[:, :k]\n",
    "    Sigma_k = np.diag(S_diag[:k])\n",
    "    V_k = V[:k, :]\n",
    "\n",
    "    return U_k, Sigma_k, V_k, k\n",
    "\n",
    "U_k, Sigma_k, V_k, k = truncated_svd(A, 0.9)  # Giữ lại 90% lượng thông tin\n",
    "\n",
    "print(\"U_k:\")\n",
    "print(U_k)\n",
    "\n",
    "print(\"\\nSigma_k:\")\n",
    "print(Sigma_k)\n",
    "\n",
    "print(\"\\nV_k:\")\n",
    "print(V_k)\n",
    "\n",
    "print(\"\\nSố k cần giữ:\", k)\n"
   ]
  }
 ],
 "metadata": {
  "kernelspec": {
   "display_name": "base",
   "language": "python",
   "name": "python3"
  },
  "language_info": {
   "codemirror_mode": {
    "name": "ipython",
    "version": 3
   },
   "file_extension": ".py",
   "mimetype": "text/x-python",
   "name": "python",
   "nbconvert_exporter": "python",
   "pygments_lexer": "ipython3",
   "version": "3.11.4"
  }
 },
 "nbformat": 4,
 "nbformat_minor": 2
}
