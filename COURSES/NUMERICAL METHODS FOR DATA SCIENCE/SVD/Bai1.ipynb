{
 "cells": [
  {
   "cell_type": "markdown",
   "id": "c95f201b",
   "metadata": {},
   "source": [
    "# Week 1_Bai1"
   ]
  },
  {
   "cell_type": "code",
   "execution_count": 1,
   "id": "af57603e",
   "metadata": {},
   "outputs": [],
   "source": [
    "import numpy as np\n",
    "from scipy.linalg import svd "
   ]
  },
  {
   "cell_type": "code",
   "execution_count": 2,
   "id": "a9aaf089",
   "metadata": {},
   "outputs": [
    {
     "name": "stdout",
     "output_type": "stream",
     "text": [
      "Left Singular Vectors (U):\n",
      "[[ 0.  1.  0.  0.]\n",
      " [ 1.  0.  0.  0.]\n",
      " [ 0.  0.  0. -1.]\n",
      " [ 0.  0.  1.  0.]]\n",
      "Singular Values (S_diag):\n",
      "[3.         2.23606798 2.         0.        ]\n",
      "Right Singular Vectors (V):\n",
      "[[-0.          0.          1.         -0.          0.        ]\n",
      " [ 0.4472136  -0.         -0.         -0.          0.89442719]\n",
      " [-0.          1.          0.         -0.          0.        ]\n",
      " [ 0.          0.          0.          1.          0.        ]\n",
      " [-0.89442719  0.          0.          0.          0.4472136 ]]\n"
     ]
    }
   ],
   "source": [
    "# Define a rectangular matrix \n",
    "A = np.array([[1, 0, 0, 0 ,2], \n",
    "              [0, 0, 3, 0, 0], \n",
    "              [0, 0, 0, 0, 0], \n",
    "              [0, 2, 0, 0, 0]]) \n",
    "# Compute the singular value decomposition (SVD) of A \n",
    "U, S_diag, V = svd(A) \n",
    "print(f\"Left Singular Vectors (U):\") \n",
    "print(U) \n",
    "print(\"Singular Values (S_diag):\") \n",
    "print(S_diag) \n",
    "print(\"Right Singular Vectors (V):\") \n",
    "print(V)\n"
   ]
  },
  {
   "cell_type": "code",
   "execution_count": 4,
   "id": "2393b5ff",
   "metadata": {},
   "outputs": [
    {
     "name": "stdout",
     "output_type": "stream",
     "text": [
      "[[3.         0.         0.         0.         0.        ]\n",
      " [0.         2.23606798 0.         0.         0.        ]\n",
      " [0.         0.         2.         0.         0.        ]\n",
      " [0.         0.         0.         0.         0.        ]]\n"
     ]
    }
   ],
   "source": [
    "\n",
    "Sigma = np.zeros((4, 5))\n",
    "for i in range(min(4, 5)):\n",
    "    Sigma[i, i] = S_diag[i]\n",
    "print(Sigma)"
   ]
  }
 ],
 "metadata": {
  "kernelspec": {
   "display_name": "Python 3 (ipykernel)",
   "language": "python",
   "name": "python3"
  },
  "language_info": {
   "codemirror_mode": {
    "name": "ipython",
    "version": 3
   },
   "file_extension": ".py",
   "mimetype": "text/x-python",
   "name": "python",
   "nbconvert_exporter": "python",
   "pygments_lexer": "ipython3",
   "version": "3.11.4"
  }
 },
 "nbformat": 4,
 "nbformat_minor": 5
}
