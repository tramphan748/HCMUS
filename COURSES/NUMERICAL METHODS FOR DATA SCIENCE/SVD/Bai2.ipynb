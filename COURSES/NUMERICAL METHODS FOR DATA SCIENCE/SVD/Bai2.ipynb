{
 "cells": [
  {
   "cell_type": "markdown",
   "metadata": {},
   "source": [
    "# Bai 2"
   ]
  },
  {
   "cell_type": "code",
   "execution_count": 52,
   "metadata": {},
   "outputs": [],
   "source": [
    "import numpy as np\n",
    "from scipy.linalg import svd "
   ]
  },
  {
   "cell_type": "code",
   "execution_count": 53,
   "metadata": {},
   "outputs": [
    {
     "name": "stdout",
     "output_type": "stream",
     "text": [
      "Left Singular Vectors (U):\n",
      "[[ 0.  1.  0.  0.]\n",
      " [ 1.  0.  0.  0.]\n",
      " [ 0.  0.  0. -1.]\n",
      " [ 0.  0.  1.  0.]]\n",
      "Singular Values (S_diag):\n",
      "[3.         2.23606798 2.         0.        ]\n",
      "Right Singular Vectors (V):\n",
      "[[-0.          0.          1.         -0.          0.        ]\n",
      " [ 0.4472136  -0.         -0.         -0.          0.89442719]\n",
      " [-0.          1.          0.         -0.          0.        ]\n",
      " [ 0.          0.          0.          1.          0.        ]\n",
      " [-0.89442719  0.          0.          0.          0.4472136 ]]\n",
      "Sigma:\n",
      "[[3.         0.         0.         0.         0.        ]\n",
      " [0.         2.23606798 0.         0.         0.        ]\n",
      " [0.         0.         2.         0.         0.        ]\n",
      " [0.         0.         0.         0.         0.        ]]\n"
     ]
    }
   ],
   "source": [
    "A = np.array([[1, 0, 0, 0 ,2], \n",
    "              [0, 0, 3, 0, 0], \n",
    "              [0, 0, 0, 0, 0], \n",
    "              [0, 2, 0, 0, 0]]) \n",
    "\n",
    "U, S_diag, V = svd(A) \n",
    "print(f\"Left Singular Vectors (U):\") \n",
    "print(U) \n",
    "print(\"Singular Values (S_diag):\") \n",
    "print(S_diag) \n",
    "print(\"Right Singular Vectors (V):\") \n",
    "print(V)\n",
    "Sigma = np.zeros((4, 5))\n",
    "for i in range(min(4, 5)):\n",
    "    Sigma[i, i] = S_diag[i]\n",
    "print(\"Sigma:\")\n",
    "print(Sigma)\n",
    "\n"
   ]
  },
  {
   "cell_type": "code",
   "execution_count": 54,
   "metadata": {},
   "outputs": [
    {
     "name": "stdout",
     "output_type": "stream",
     "text": [
      "Sigma_r:\n",
      " [[3.         0.         0.        ]\n",
      " [0.         2.23606798 0.        ]\n",
      " [0.         0.         2.        ]]\n",
      "U_r:\n",
      " [[0. 1. 0.]\n",
      " [1. 0. 0.]\n",
      " [0. 0. 0.]\n",
      " [0. 0. 1.]]\n",
      "V_r:\n",
      " [[-0.          0.          1.         -0.          0.        ]\n",
      " [ 0.4472136  -0.         -0.         -0.          0.89442719]\n",
      " [-0.          1.          0.         -0.          0.        ]\n",
      " [ 0.          0.          0.          1.          0.        ]\n",
      " [-0.89442719  0.          0.          0.          0.4472136 ]]\n"
     ]
    }
   ],
   "source": [
    "# tim so gia tri lambda khác 0\n",
    "r = np.count_nonzero(S_diag)\n",
    "# Giữ lại r hàng và r cột đầu tiên của ma trận Sigma\n",
    "Sigma_r = np.diag(S_diag[:r])\n",
    "print(\"Sigma_r:\\n\", Sigma_r)\n",
    "# Giữ lại r cột đầu tiên của ma trận U\n",
    "U_r = U[:, :r] \n",
    "print(\"U_r:\\n\", U_r)\n",
    "# Giữ lại r hàng đầu tiên của ma trận V\n",
    "V_r = V[:r, :]\n",
    "print(\"V_r:\\n\", V)\n",
    "\n"
   ]
  },
  {
   "cell_type": "code",
   "execution_count": null,
   "metadata": {},
   "outputs": [],
   "source": []
  }
 ],
 "metadata": {
  "kernelspec": {
   "display_name": "base",
   "language": "python",
   "name": "python3"
  },
  "language_info": {
   "codemirror_mode": {
    "name": "ipython",
    "version": 3
   },
   "file_extension": ".py",
   "mimetype": "text/x-python",
   "name": "python",
   "nbconvert_exporter": "python",
   "pygments_lexer": "ipython3",
   "version": "3.11.4"
  }
 },
 "nbformat": 4,
 "nbformat_minor": 2
}
