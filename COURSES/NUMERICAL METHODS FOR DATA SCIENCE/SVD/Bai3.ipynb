{
 "cells": [
  {
   "cell_type": "code",
   "execution_count": 1,
   "metadata": {},
   "outputs": [],
   "source": [
    "import numpy as np\n",
    "from scipy.linalg import svd "
   ]
  },
  {
   "cell_type": "code",
   "execution_count": 7,
   "metadata": {},
   "outputs": [
    {
     "name": "stdout",
     "output_type": "stream",
     "text": [
      "Left Singular Vectors (U):\n",
      "[[-0.32813554  0.32928789 -0.08780746  0.88098834  0.00677837]\n",
      " [-0.27374756  0.09123211 -0.31504405 -0.16061502 -0.88976909]\n",
      " [-0.64816455 -0.65873014  0.3795124   0.04270121 -0.01021102]\n",
      " [-0.46609071  0.0207275  -0.71918456 -0.25646457  0.44646312]\n",
      " [-0.4243012   0.66999341  0.4814364  -0.36119923  0.09397571]]\n",
      "Singular Values (S_diag):\n",
      "[4.68190663 1.79325215 1.57960998 0.54903356 0.17859599]\n",
      "Right Singular Vectors (V):\n",
      "[[-0.35047463 -0.4780765  -0.35097791 -0.5344013  -0.48973477]\n",
      " [ 0.24274782 -0.05358443 -0.66685673  0.62343097 -0.32378718]\n",
      " [ 0.3428965  -0.86035897  0.23658964  0.1699711   0.2394569 ]\n",
      " [ 0.77612359  0.16080247  0.18212689 -0.3391472  -0.47284639]\n",
      " [ 0.31352063  0.04996579 -0.5856379  -0.42642477  0.61188103]]\n",
      "Sigma:\n",
      "[[4.68190663 0.         0.         0.         0.        ]\n",
      " [0.         1.79325215 0.         0.         0.        ]\n",
      " [0.         0.         1.57960998 0.         0.        ]\n",
      " [0.         0.         0.         0.54903356 0.        ]\n",
      " [0.         0.         0.         0.         0.17859599]]\n"
     ]
    }
   ],
   "source": [
    "A = np.array([[1.01, 0.9, 0.2, 1.001, 0.3],\n",
    "             [0.2, 1.01, 0.3, 0.8, 0.4],\n",
    "             [1, 1.002, 2, 0.98, 2],\n",
    "             [0.3, 2, 0.4, 1.01, 0.9],\n",
    "             [1.1, 0.2, 0.03, 2, 0.87]])\n",
    "A.shape\n",
    "\n",
    "U, S_diag, V = svd(A) \n",
    "print(f\"Left Singular Vectors (U):\") \n",
    "print(U) \n",
    "print(\"Singular Values (S_diag):\") \n",
    "print(S_diag) \n",
    "print(\"Right Singular Vectors (V):\") \n",
    "print(V)\n",
    "\n",
    "\n",
    "Sigma = np.zeros((5, 5))\n",
    "for i in range(min(5, 5)):\n",
    "    Sigma[i, i] = S_diag[i]\n",
    "print(\"Sigma:\")\n",
    "print(Sigma)"
   ]
  },
  {
   "cell_type": "code",
   "execution_count": 22,
   "metadata": {},
   "outputs": [
    {
     "name": "stdout",
     "output_type": "stream",
     "text": [
      "Sigma_k:\n",
      " [[4.68190663 0.         0.         0.        ]\n",
      " [0.         1.79325215 0.         0.        ]\n",
      " [0.         0.         1.57960998 0.        ]\n",
      " [0.         0.         0.         0.54903356]]\n",
      "U_k:\n",
      " [[-0.32813554  0.32928789 -0.08780746  0.88098834]\n",
      " [-0.27374756  0.09123211 -0.31504405 -0.16061502]\n",
      " [-0.64816455 -0.65873014  0.3795124   0.04270121]\n",
      " [-0.46609071  0.0207275  -0.71918456 -0.25646457]\n",
      " [-0.4243012   0.66999341  0.4814364  -0.36119923]]\n",
      "V_k:\n",
      "  [[-0.35047463 -0.4780765  -0.35097791 -0.5344013  -0.48973477]\n",
      " [ 0.24274782 -0.05358443 -0.66685673  0.62343097 -0.32378718]\n",
      " [ 0.3428965  -0.86035897  0.23658964  0.1699711   0.2394569 ]\n",
      " [ 0.77612359  0.16080247  0.18212689 -0.3391472  -0.47284639]]\n",
      "% lượng thông tin được giữ lại:  99.88593923179663\n"
     ]
    }
   ],
   "source": [
    "# giữ lại 4 hàng 4 cột của ma trận sigma\n",
    "Sigma_k = np.diag(S_diag[:4])\n",
    "print(\"Sigma_k:\\n\", Sigma_k)\n",
    "\n",
    "# Giữ lại 4 cột đầu tiên của U\n",
    "U_k  = U[:, :4] \n",
    "print(\"U_k:\\n\", U_k)\n",
    "\n",
    "# Giữ lại 4 hàng đầu tiên của V^T\n",
    "V_k = V[:4, :]\n",
    "print(\"V_k:\\n \", V_k)\n",
    "\n",
    "# Áp dụng công thức để tính phần trăm lượng thông tin \n",
    "k = 4\n",
    "A_F = np.sum(S_diag**2)\n",
    "j = np.arange(1, k+1)\n",
    "A_All = np.sum((A - U_k @ Sigma_k @ V_k)**2)\n",
    "percent = (1 - (A_All / A_F)) * 100\n",
    "\n",
    "print(\"% lượng thông tin được giữ lại: \",percent)\n",
    "\n"
   ]
  }
 ],
 "metadata": {
  "kernelspec": {
   "display_name": "base",
   "language": "python",
   "name": "python3"
  },
  "language_info": {
   "codemirror_mode": {
    "name": "ipython",
    "version": 3
   },
   "file_extension": ".py",
   "mimetype": "text/x-python",
   "name": "python",
   "nbconvert_exporter": "python",
   "pygments_lexer": "ipython3",
   "version": "3.11.4"
  }
 },
 "nbformat": 4,
 "nbformat_minor": 2
}
