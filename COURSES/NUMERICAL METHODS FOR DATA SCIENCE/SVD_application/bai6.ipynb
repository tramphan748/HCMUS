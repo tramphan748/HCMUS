{
 "cells": [
  {
   "cell_type": "code",
   "execution_count": 1,
   "metadata": {},
   "outputs": [
    {
     "name": "stderr",
     "output_type": "stream",
     "text": [
      "c:\\Users\\PC\\anaconda3\\Lib\\site-packages\\paramiko\\transport.py:219: CryptographyDeprecationWarning: Blowfish has been deprecated\n",
      "  \"class\": algorithms.Blowfish,\n"
     ]
    }
   ],
   "source": [
    "import numpy as np\n",
    "import cv2\n",
    "from pylab import imread\n",
    "from skimage.color import rgb2gray\n",
    "from matplotlib import pyplot as plt \n",
    "from scipy.linalg import svd\n",
    "import pandas as pd"
   ]
  },
  {
   "cell_type": "code",
   "execution_count": 2,
   "metadata": {},
   "outputs": [
    {
     "data": {
      "text/plain": [
       "array([['Samsung Galaxy A01 Core', 1, 16, 3000, 1850000],\n",
       "       ['Samsung Galaxy A11', 3, 32, 4000, 2650000],\n",
       "       ['Samsung Galaxy A02s', 4, 64, 5000, 3350000],\n",
       "       ['Samsung Galaxy J7 Prime', 3, 32, 3300, 3790000],\n",
       "       ['Samsung Galaxy A21s', 3, 32, 5000, 4250000],\n",
       "       ['Samsung Galaxy A22 4G', 6, 128, 5000, 4700000],\n",
       "       ['Samsung Galaxy A30s', 4, 64, 4000, 4150000],\n",
       "       ['Samsung Galaxy A31', 6, 128, 5000, 5150000],\n",
       "       ['Samsung Galaxy A52', 8, 128, 4500, 6600600],\n",
       "       ['Samsung Galaxy A72', 8, 256, 5000, 10100000],\n",
       "       ['Samsung Galaxy Note 10 Lite', 8, 128, 4500, 10500000],\n",
       "       ['Samsung Galaxy S10+', 8, 128, 4100, 12400000],\n",
       "       ['Samsung Galaxy S21 FE 5G', 8, 256, 4500, 13650000],\n",
       "       ['Samsung Galaxy S21 FE', 8, 128, 4500, 12790000],\n",
       "       ['Samsung Galaxy S20+', 8, 128, 4500, 15500000],\n",
       "       ['Samsung Galaxy S20 Ultra', 12, 128, 5000, 16000000],\n",
       "       ['Samsung Galaxy Note 20 Ultra', 12, 256, 4500, 18990000],\n",
       "       ['Samsung Galaxy Z Flip3 5G', 8, 256, 3300, 19350000],\n",
       "       ['Samsung Galaxy Z Flip', 8, 256, 3300, 20990000],\n",
       "       ['Samsung Galaxy S21 Plus 5G', 8, 256, 4800, 23000000],\n",
       "       ['Samsung Galaxy Z Fold2', 12, 256, 4500, 23000000],\n",
       "       ['Samsung Galaxy S21 Ultra 5G', 12, 256, 5000, 29800000],\n",
       "       ['Samsung Galaxy S22 Ultra', 12, 512, 5000, 29990000],\n",
       "       ['Samsung Galaxy Z Fold3', 12, 512, 4400, 33990000]], dtype=object)"
      ]
     },
     "execution_count": 2,
     "metadata": {},
     "output_type": "execute_result"
    }
   ],
   "source": [
    "data = pd.read_csv('RAM_pin_price.csv')\n",
    "data = data.to_numpy()\n",
    "data"
   ]
  },
  {
   "cell_type": "code",
   "execution_count": 3,
   "metadata": {},
   "outputs": [],
   "source": [
    "\n",
    "ones_column = np.ones((data.shape[0], 1))\n",
    "A = np.column_stack((data[:, 1:4], ones_column)) # Ma trận A\n",
    "B = data[:,4:].astype('float') # Ma trận B\n",
    "\n"
   ]
  },
  {
   "cell_type": "code",
   "execution_count": 8,
   "metadata": {},
   "outputs": [
    {
     "name": "stdout",
     "output_type": "stream",
     "text": [
      "Giá dự đoán là: [4898020.4353911765]\n"
     ]
    }
   ],
   "source": [
    "def prediction_price(RAM, MEMORY, PIN, one):\n",
    "\n",
    "    A_T = A.transpose()\n",
    "    matrix = np.dot(A_T, A) # A_T*A\n",
    "    matrix = matrix.astype(\"float64\")\n",
    "    det = np.linalg.det(matrix) # Định thức của (A_T*A)\n",
    "    if (det != 0):\n",
    "        matrix_inv = np.linalg.inv(matrix) # Nghịch đảo của (A_T*A)\n",
    "        X = np.dot(matrix_inv, np.dot(A_T, B))\n",
    "\n",
    "    else:\n",
    "        # SVD của ma trận A\n",
    "        U, S_diag, V_T = svd(A)\n",
    "        # Ma trận Sigma_+\n",
    "        Sigma_pinv = np.diag(1. / S_diag)\n",
    "        # Tính X\n",
    "        U_T = U.transpose()\n",
    "        V = V_T.transpose()\n",
    "        X = np.dot(np.dot(V, Sigma_pinv), np.dot(U_T, B)) #X = V*Σ_+*U_T*B\n",
    "\n",
    "    # Tính giá điện thoại mới\n",
    "    w = np.dot(np.array([RAM, MEMORY, PIN, one]), X)\n",
    "    return w\n",
    "\n",
    "w1 = prediction_price(4, 64, 4000, 1)\n",
    "print(\"Giá dự đoán là:\", w1)\n",
    "    "
   ]
  }
 ],
 "metadata": {
  "kernelspec": {
   "display_name": "base",
   "language": "python",
   "name": "python3"
  },
  "language_info": {
   "codemirror_mode": {
    "name": "ipython",
    "version": 3
   },
   "file_extension": ".py",
   "mimetype": "text/x-python",
   "name": "python",
   "nbconvert_exporter": "python",
   "pygments_lexer": "ipython3",
   "version": "3.11.4"
  }
 },
 "nbformat": 4,
 "nbformat_minor": 2
}
