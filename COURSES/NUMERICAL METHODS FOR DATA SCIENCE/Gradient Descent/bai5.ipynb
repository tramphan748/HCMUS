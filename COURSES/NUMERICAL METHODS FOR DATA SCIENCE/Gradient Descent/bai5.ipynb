{
 "cells": [
  {
   "cell_type": "code",
   "execution_count": 1,
   "metadata": {},
   "outputs": [
    {
     "name": "stdout",
     "output_type": "stream",
     "text": [
      "Checking gradient:  True\n",
      "Found minimum. \n",
      "Nghiệm = [[-2.99999985 -1.99999925]], g(x,y) = [3.8496828e-13], hội tụ sau 1217 vòng lặp\n"
     ]
    }
   ],
   "source": [
    "import numpy as np\n",
    "import matplotlib.pyplot as plt\n",
    "\n",
    "def function(w):\n",
    "    x = w[0]\n",
    "    y = w[1]\n",
    "    return (x**2 + y - 7)**2 + (x - y + 1)**2\n",
    "\n",
    "def grad_function(w):\n",
    "    x = w[0]\n",
    "    y = w[1]\n",
    "    g = np.zeros_like(w)\n",
    "    g[0] = 4*x**3 + 4*x*y - 26*x - 2*y + 2\n",
    "    g[1] = 2*x**2 - 2*x + 4*y - 16\n",
    "    return g\n",
    "\n",
    "\n",
    "# Numerical gradient dùng để kiểm tra đạo hàm hàm nhiều biến có đúng hay không\n",
    "def numerical_grad_function(w, function):\n",
    "    eps = 1e-6\n",
    "    g = np.zeros_like(w)\n",
    "    for i in range(len(w)):\n",
    "        w_pos = w.copy()\n",
    "        w_neg = w.copy()\n",
    "        w_pos[i] += eps\n",
    "        w_neg[i] -= eps\n",
    "        g[i] = (function(w_pos)-function(w_neg))/(2*eps)\n",
    "    return g\n",
    "\n",
    "def check_grad(w, function, grad):\n",
    "    w = np.random.rand(w.shape[0], w.shape[1])\n",
    "    gradient = grad_function(w)\n",
    "    numerical_gradient = numerical_grad_function(w, function)\n",
    "    if np.linalg.norm(gradient-numerical_gradient) < 1e-4:\n",
    "        return True\n",
    "    else:\n",
    "        return False\n",
    "\n",
    "w = np.random.randn(2, 1)\n",
    "print( 'Checking gradient: ', check_grad(w, function, grad_function))\n",
    "\n",
    "def gradient_descent(learning_rate, w0, N, eps):\n",
    "    w = [w0]\n",
    "    i = 0\n",
    "    for i in range(N):\n",
    "        w_new = w[-1] - learning_rate*grad_function(w[-1])\n",
    "        if np.linalg.norm(grad_function(w_new)) < eps:\n",
    "            print(\"Found minimum. \")\n",
    "            break\n",
    "        w.append(w_new)\n",
    "        # print('iter %d: ' % i, w[-1].T)\n",
    "    else: print(\"Accelerated gradient descent did not converge after\", N, \"iterations.\")\n",
    "    return (w, i)\n",
    "\n",
    "learning_rate = 0.01\n",
    "w0 = np.array([[0], [0]])\n",
    "N = 10000\n",
    "eps = 1e-6\n",
    "\n",
    "(w1, iter) = gradient_descent(learning_rate, w0, N, eps)\n",
    "\n",
    "print(f'Nghiệm = {w1[-1].T}, g(x,y) = {function(w1[-1])}, hội tụ sau {iter} vòng lặp')\n",
    "\n"
   ]
  },
  {
   "cell_type": "code",
   "execution_count": 2,
   "metadata": {},
   "outputs": [
    {
     "name": "stdout",
     "output_type": "stream",
     "text": [
      "Found minimum.\n",
      "Giá trị của x tại đó hàm số g có giá trị cực tiểu là: -2.9999999618331596\n",
      "Giá trị của y tại đó hàm số g có giá trị cực tiểu là: -1.9999998018140086\n",
      "g(x,y): 2.6555695955759508e-14\n",
      "hội tụ sau 833 vòng lặp\n"
     ]
    }
   ],
   "source": [
    "\n",
    "def g(x, y):\n",
    "    return (x**2 + y - 7)**2 + (x - y + 1)**2\n",
    "\n",
    "def grad_g(x, y):\n",
    "    return np.array([\n",
    "        4 * x * (x**2 + y - 7) + 2 * (x - y + 1),\n",
    "        2 * (x**2 + y - 7) - 2 * (x - y + 1)\n",
    "    ])\n",
    "\n",
    "def accelerated_gradient_descent(grad, learning_rate, x0, N, epsilon):\n",
    "    x_prev = x0\n",
    "    x = x0\n",
    "    i = 0\n",
    "    while i < N:\n",
    "        y = x + (i - 1) / (i + 2) * (x - x_prev)\n",
    "        x_new = y - learning_rate * grad(y[0], y[1])\n",
    "        if np.linalg.norm(grad(x_new[0], x_new[1])) < epsilon:\n",
    "            print(\"Found minimum.\")\n",
    "            return x_new, i\n",
    "        x_prev = x\n",
    "        x = x_new\n",
    "        i += 1\n",
    "    print(\"Accelerated gradient descent did not converge after\", N, \"iterations.\")\n",
    "    return x, i\n",
    "\n",
    "x0 = np.array([0, 0]) # giá trị ban đầu\n",
    "learning_rate = 0.01 # learning rate\n",
    "N = 10000 # bước lặp lớn nhất\n",
    "epsilon = 1e-6 # sai số\n",
    "\n",
    "# Tìm cực tiểu của hàm số g bằng accelerated gradient descent\n",
    "x_min, i = accelerated_gradient_descent(grad_g, learning_rate, x0, N, epsilon)\n",
    "# In ra giá trị của x tại đó hàm số f có giá trị cực tiểu\n",
    "print(f\"Giá trị của x tại đó hàm số g có giá trị cực tiểu là: {x_min[0]}\")\n",
    "print(f\"Giá trị của y tại đó hàm số g có giá trị cực tiểu là: {x_min[1]}\")\n",
    "# In ra giá trị của hàm số f tại điểm cực tiểu\n",
    "print(\"g(x,y):\", g(x_min[0],x_min[1]))\n",
    "# In ra số vòng lặp\n",
    "print(f\"hội tụ sau {i} vòng lặp\")\n"
   ]
  }
 ],
 "metadata": {
  "kernelspec": {
   "display_name": "base",
   "language": "python",
   "name": "python3"
  },
  "language_info": {
   "codemirror_mode": {
    "name": "ipython",
    "version": 3
   },
   "file_extension": ".py",
   "mimetype": "text/x-python",
   "name": "python",
   "nbconvert_exporter": "python",
   "pygments_lexer": "ipython3",
   "version": "3.11.4"
  }
 },
 "nbformat": 4,
 "nbformat_minor": 2
}
