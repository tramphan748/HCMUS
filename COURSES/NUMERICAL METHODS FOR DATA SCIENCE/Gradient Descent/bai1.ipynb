{
 "cells": [
  {
   "cell_type": "code",
   "execution_count": 2,
   "metadata": {},
   "outputs": [],
   "source": [
    "import numpy as np\n",
    "import matplotlib.pyplot as plt"
   ]
  },
  {
   "cell_type": "code",
   "execution_count": 9,
   "metadata": {},
   "outputs": [
    {
     "name": "stdout",
     "output_type": "stream",
     "text": [
      "solution = -1.1092106239681516\n"
     ]
    }
   ],
   "source": [
    "# bài 1\n",
    "def y_function(x):\n",
    "    return x**2 + 5*np.sin(x)\n",
    "def calculate_df(x):\n",
    "    return 2*x+5*np.cos(x)\n",
    "\n",
    "def gradient_descent(x0, learning_rate, num_iterations, epsilon):\n",
    "    x = x0\n",
    "    grad = calculate_df(x)\n",
    "    for i in range(num_iterations):\n",
    "        # Cập nhật vị trí mới\n",
    "        x_new = x - learning_rate * grad\n",
    "        grad_new = calculate_df(x_new)\n",
    "        if np.abs(grad_new) < epsilon:\n",
    "            # In ra giá trị hiện tại của hàm số\n",
    "            print(f\"solution = {x_new}\")\n",
    "            break\n",
    "        x = x_new\n",
    "        \n",
    "    else: print(f'The algorithm fails after {num_iterations} iterations')\n",
    "\n",
    "x0 = 2.0\n",
    "learning_rate = 0.01\n",
    "N = 1000\n",
    "epsilon = 0.01\n",
    "\n",
    "gradient_descent(x0, learning_rate, N, epsilon)"
   ]
  }
 ],
 "metadata": {
  "kernelspec": {
   "display_name": "base",
   "language": "python",
   "name": "python3"
  },
  "language_info": {
   "codemirror_mode": {
    "name": "ipython",
    "version": 3
   },
   "file_extension": ".py",
   "mimetype": "text/x-python",
   "name": "python",
   "nbconvert_exporter": "python",
   "pygments_lexer": "ipython3",
   "version": "3.11.4"
  }
 },
 "nbformat": 4,
 "nbformat_minor": 2
}
