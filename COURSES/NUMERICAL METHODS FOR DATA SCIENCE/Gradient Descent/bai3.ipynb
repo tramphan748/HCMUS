{
 "cells": [
  {
   "cell_type": "code",
   "execution_count": 2,
   "metadata": {},
   "outputs": [],
   "source": [
    "import numpy as np\n",
    "import matplotlib.pyplot as plt"
   ]
  },
  {
   "cell_type": "code",
   "execution_count": 3,
   "metadata": {},
   "outputs": [
    {
     "name": "stdout",
     "output_type": "stream",
     "text": [
      "Checking gradient:  True\n"
     ]
    }
   ],
   "source": [
    "def function(w):\n",
    "    x = w[0]\n",
    "    y = w[1]\n",
    "    return (x**2 + y - 7)**2 + (x - y + 1)**2\n",
    "\n",
    "def grad_function(w):\n",
    "    x = w[0]\n",
    "    y = w[1]\n",
    "    g = np.zeros_like(w)\n",
    "    g[0] = 4*x**3 + 4*x*y - 26*x - 2*y + 2\n",
    "    g[1] = 2*x**2 - 2*x + 4*y - 16\n",
    "    return g\n",
    "\n",
    "# Numerical gradient dùng để kiểm tra đạo hàm hàm nhiều biến có đúng hay không\n",
    "def numerical_grad_function(w, function):\n",
    "    eps = 1e-6\n",
    "    g = np.zeros_like(w)\n",
    "    for i in range(len(w)):\n",
    "        w_pos = w.copy()\n",
    "        w_neg = w.copy()\n",
    "        w_pos[i] += eps\n",
    "        w_neg[i] -= eps\n",
    "        g[i] = (function(w_pos)-function(w_neg))/(2*eps)\n",
    "    return g\n",
    "\n",
    "def check_grad(w, function, grad):\n",
    "    w = np.random.rand(w.shape[0], w.shape[1])\n",
    "    gradient = grad_function(w)\n",
    "    numerical_gradient = numerical_grad_function(w, function)\n",
    "    if np.linalg.norm(gradient-numerical_gradient) < 1e-4:\n",
    "        return True\n",
    "    else:\n",
    "        return False\n",
    "\n",
    "w = np.random.randn(2, 1)\n",
    "print( 'Checking gradient: ', check_grad(w, function, grad_function))\n"
   ]
  },
  {
   "cell_type": "code",
   "execution_count": 7,
   "metadata": {},
   "outputs": [
    {
     "name": "stdout",
     "output_type": "stream",
     "text": [
      "Found minimum.\n",
      "Solution = [[2.00006752 2.99964938]], f(x,y) = [1.81329237e-07], iters = 275\n"
     ]
    }
   ],
   "source": [
    "def gradient_descent(learning_rate, w0, N, eps):\n",
    "    w = [w0]\n",
    "    i = 0\n",
    "    for i in range(N):\n",
    "        w_new = w[-1] - learning_rate*grad_function(w[-1])\n",
    "        if np.linalg.norm(grad_function(w_new)) < eps:\n",
    "            print(\"Found minimum.\")\n",
    "            break\n",
    "        w.append(w_new)\n",
    "    else: print(f'The algorithm fails after {N} iterations') \n",
    "    return (w, i)\n",
    "\n",
    "learning_rate = 0.01\n",
    "w0 = np.array([[2], [2]])\n",
    "N = 1000\n",
    "eps = 1e-3\n",
    "\n",
    "(w1, iter) = gradient_descent(learning_rate, w0, N, eps)\n",
    "\n",
    "print(f\"Solution = {w1[-1].T}, f(x,y) = {function(w1[-1])}, iters = {iter}\")\n",
    "\n"
   ]
  }
 ],
 "metadata": {
  "kernelspec": {
   "display_name": "base",
   "language": "python",
   "name": "python3"
  },
  "language_info": {
   "codemirror_mode": {
    "name": "ipython",
    "version": 3
   },
   "file_extension": ".py",
   "mimetype": "text/x-python",
   "name": "python",
   "nbconvert_exporter": "python",
   "pygments_lexer": "ipython3",
   "version": "3.11.4"
  }
 },
 "nbformat": 4,
 "nbformat_minor": 2
}
